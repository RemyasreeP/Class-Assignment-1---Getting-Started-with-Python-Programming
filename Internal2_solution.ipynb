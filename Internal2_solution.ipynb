{
  "nbformat": 4,
  "nbformat_minor": 0,
  "metadata": {
    "colab": {
      "name": "Internal2 solution.ipynb",
      "provenance": [],
      "authorship_tag": "ABX9TyND5TQ8rTzRIAQRk3wH47xR",
      "include_colab_link": true
    },
    "kernelspec": {
      "name": "python3",
      "display_name": "Python 3"
    }
  },
  "cells": [
    {
      "cell_type": "markdown",
      "metadata": {
        "id": "view-in-github",
        "colab_type": "text"
      },
      "source": [
        "<a href=\"https://colab.research.google.com/github/RemyasreeP/Class-Assignment-1---Getting-Started-with-Python-Programming/blob/master/Internal2_solution.ipynb\" target=\"_parent\"><img src=\"https://colab.research.google.com/assets/colab-badge.svg\" alt=\"Open In Colab\"/></a>"
      ]
    },
    {
      "cell_type": "markdown",
      "metadata": {
        "id": "xeotKCE3i5ur"
      },
      "source": [
        " Question 3"
      ]
    },
    {
      "cell_type": "code",
      "metadata": {
        "colab": {
          "base_uri": "https://localhost:8080/"
        },
        "id": "1mXRVEZZi9dq",
        "outputId": "17616779-ccf9-42da-b06b-b9ea5e583ab2"
      },
      "source": [
        " \n",
        "def Remove(duplicate):\n",
        " \n",
        "    final_list = []\n",
        " \n",
        "    for num in duplicate:\n",
        " \n",
        "        if num not in final_list:\n",
        " \n",
        "            final_list.append(num)\n",
        " \n",
        "    return final_list\n",
        " \n",
        "     \n",
        "# Driver Code\n",
        " \n",
        "duplicate = [2, 1, 10, 5,1,2]\n",
        " \n",
        "print(Remove(duplicate))"
      ],
      "execution_count": null,
      "outputs": [
        {
          "output_type": "stream",
          "text": [
            "[2, 1, 10, 5]\n"
          ],
          "name": "stdout"
        }
      ]
    },
    {
      "cell_type": "markdown",
      "metadata": {
        "id": "g9A_bpLQsJCB"
      },
      "source": [
        " Question 1"
      ]
    },
    {
      "cell_type": "code",
      "metadata": {
        "colab": {
          "base_uri": "https://localhost:8080/"
        },
        "id": "_s2AeaWfsLsy",
        "outputId": "59020075-24bd-494a-fe02-50dce895054c"
      },
      "source": [
        " \n",
        "my_dict={'a':1, 'b':3, 'c':1, 'd':2}\n",
        "lookup_value=1\n",
        "all_keys=[]\n",
        "for key,value in my_dict.items() :\n",
        "    if (value==lookup_value):\n",
        "        all_keys.append(key)\n",
        "print (all_keys)"
      ],
      "execution_count": null,
      "outputs": [
        {
          "output_type": "stream",
          "text": [
            "['a', 'c']\n"
          ],
          "name": "stdout"
        }
      ]
    },
    {
      "cell_type": "markdown",
      "metadata": {
        "id": "5bJz-SGDtPBN"
      },
      "source": [
        "Question 4"
      ]
    },
    {
      "cell_type": "code",
      "metadata": {
        "colab": {
          "base_uri": "https://localhost:8080/"
        },
        "id": "9x8vmoOBtQrM",
        "outputId": "b6e23487-b347-4a8a-8a49-a0f9131544da"
      },
      "source": [
        " \n",
        "class Polygon:\n",
        "    def __init__(self,number,name):\n",
        "        self.number = number\n",
        "        self.name=name\n",
        "        self.sides=[]\n",
        "    def inputsides(self):\n",
        "      print(self.name)\n",
        "      for i in range(0,self.number):\n",
        "            ele=float(input(\"Enter side \"+str(i+1)+\" : \"))\n",
        "            self.sides.append(ele)\n",
        "class Triangle(Polygon):\n",
        "    def __init__(self):\n",
        "        Polygon.__init__(self, 3 ,\"TRIANGLE :\")\n",
        " \n",
        "    def trianglearea(self):\n",
        "        a, b, c = self.sides\n",
        "        s = (a + b + c) / 2\n",
        "        area = (s*(s-a)*(s-b)*(s-c)) ** 0.5\n",
        "        print(\"The area of the triangle is : %0.2f  \" % area)\n",
        " \n",
        "class Square(Polygon):\n",
        " \n",
        "    def __init__(self):\n",
        "        Polygon.__init__(self, 4, \"SQUARE :\")\n",
        " \n",
        "    def inputsides(self):\n",
        "      print(self.name)\n",
        "      self.sides=float(input(\"Enter side  : \"))\n",
        "      \n",
        "    \n",
        "    def squArea(self):\n",
        "        a = self.sides\n",
        "        area=a**2\n",
        "        print(\"The area of square is : %0.2f  \" % area)\n",
        " \n",
        " \n",
        "ob = Triangle()\n",
        "ob.inputsides()\n",
        "ob.trianglearea()\n",
        " \n",
        "ob1 = Square()\n",
        "ob1.inputsides()\n",
        "ob1.squArea()"
      ],
      "execution_count": null,
      "outputs": [
        {
          "output_type": "stream",
          "text": [
            "TRIANGLE :\n",
            "Enter side 1 : 10\n",
            "Enter side 2 : 20\n",
            "Enter side 3 : 30\n",
            "The area of the triangle is : 0.00  \n",
            "SQUARE :\n",
            "Enter side  : 10\n",
            "The area of square is : 100.00  \n"
          ],
          "name": "stdout"
        }
      ]
    },
    {
      "cell_type": "markdown",
      "metadata": {
        "id": "-jSYhlTn3zOl"
      },
      "source": [
        "Question 2"
      ]
    },
    {
      "cell_type": "code",
      "metadata": {
        "colab": {
          "base_uri": "https://localhost:8080/"
        },
        "id": "ePjejgGi32DT",
        "outputId": "eb4c73cb-dd69-4c0f-942d-dd258d8a168d"
      },
      "source": [
        " \n",
        "class Rectange:\n",
        "    def __init__(self,width=0,height=0,corner_x=0,corner_y=0):\n",
        "        self.width = width\n",
        "        self.height = height\n",
        "        self.corner_x = corner_x\n",
        "        self.corner_y = corner_y\n",
        " \n",
        "    def center(self):\n",
        "      input_x_c = input(\"Enter x_c\")\n",
        "      input_y_c = input(\"Enter y_c\")\n",
        "      input_x =int(input_x_c)\n",
        "      x_c = self.corner_x+self.width/2\n",
        "      y_c = self.corner_y+self.height/2\n",
        " \n",
        "      print('Center: (%g , %g)' % (x_c,y_c))\n",
        " \n",
        "    def area(self):\n",
        " \n",
        "      print(\"Area:\",self.height*self.width)\n",
        " \n",
        "    def perimeter(self):\n",
        "      print(\"Perimeter:\", 2*(self.height+self.width))\n",
        " \n",
        "robj = Rectange(10,5)\n",
        " \n",
        "robj.center()\n",
        "robj.area()\n",
        "robj.perimeter()"
      ],
      "execution_count": null,
      "outputs": [
        {
          "output_type": "stream",
          "text": [
            "Enter x_c5\n",
            "Enter y_c2\n",
            "Center: (5 , 2.5)\n",
            "Area: 50\n",
            "Perimeter: 30\n"
          ],
          "name": "stdout"
        }
      ]
    },
    {
      "cell_type": "markdown",
      "metadata": {
        "id": "9pP9ZWdlhoeN"
      },
      "source": [
        ""
      ]
    }
  ]
}