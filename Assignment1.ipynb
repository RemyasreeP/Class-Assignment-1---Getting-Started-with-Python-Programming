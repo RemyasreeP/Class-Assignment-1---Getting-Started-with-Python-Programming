{
  "nbformat": 4,
  "nbformat_minor": 0,
  "metadata": {
    "colab": {
      "name": "Assignment1.ipynb",
      "provenance": [],
      "authorship_tag": "ABX9TyMR0wXj04F3+hc540Wg+6A5",
      "include_colab_link": true
    },
    "kernelspec": {
      "name": "python3",
      "display_name": "Python 3"
    }
  },
  "cells": [
    {
      "cell_type": "markdown",
      "metadata": {
        "id": "view-in-github",
        "colab_type": "text"
      },
      "source": [
        "<a href=\"https://colab.research.google.com/github/RemyasreeP/Class-Assignment-1---Getting-Started-with-Python-Programming/blob/master/Assignment1.ipynb\" target=\"_parent\"><img src=\"https://colab.research.google.com/assets/colab-badge.svg\" alt=\"Open In Colab\"/></a>"
      ]
    },
    {
      "cell_type": "markdown",
      "metadata": {
        "id": "_LeyZgvq2L1X",
        "colab_type": "text"
      },
      "source": [
        "Assignment 1"
      ]
    },
    {
      "cell_type": "markdown",
      "metadata": {
        "id": "3AUZt2NWQKYg",
        "colab_type": "text"
      },
      "source": [
        "Question 2"
      ]
    },
    {
      "cell_type": "code",
      "metadata": {
        "id": "rlUYxG2a2cvf",
        "colab_type": "code",
        "colab": {
          "base_uri": "https://localhost:8080/",
          "height": 85
        },
        "outputId": "52e549d7-09ff-4a9a-990b-13a918489f9a"
      },
      "source": [
        "Name=\"Remyasree P\"\n",
        "Address=\"poinachi, Kasaragod \"\n",
        "TelephoneNumber=\"1233456\"\n",
        "print(\"Name:\"+Name+\"\\n\", \"Address:\"+Address+\"\\n\", \"TelephoneNumber:\"+TelephoneNumber+\"\\n\")"
      ],
      "execution_count": null,
      "outputs": [
        {
          "output_type": "stream",
          "text": [
            "Name:Remyasree P\n",
            " Address:poinachi, Kasaragod \n",
            " TelephoneNumber:1233456\n",
            "\n"
          ],
          "name": "stdout"
        }
      ]
    },
    {
      "cell_type": "markdown",
      "metadata": {
        "id": "G_WOyd8p5stp",
        "colab_type": "text"
      },
      "source": [
        "Question 3"
      ]
    },
    {
      "cell_type": "code",
      "metadata": {
        "id": "30gsJexO5ztk",
        "colab_type": "code",
        "colab": {
          "base_uri": "https://localhost:8080/",
          "height": 34
        },
        "outputId": "926a87fd-c110-41bb-9f80-d02b349c47e3"
      },
      "source": [
        "print(\"your name is \", name) \n",
        "name=\"Remyasree P \""
      ],
      "execution_count": null,
      "outputs": [
        {
          "output_type": "stream",
          "text": [
            "your name is  Remyasree P \n"
          ],
          "name": "stdout"
        }
      ]
    },
    {
      "cell_type": "markdown",
      "metadata": {
        "id": "1Qd-QK3D7euP",
        "colab_type": "text"
      },
      "source": [
        "Question 4"
      ]
    },
    {
      "cell_type": "code",
      "metadata": {
        "id": "sVX5qD7cCrKQ",
        "colab_type": "code",
        "colab": {
          "base_uri": "https://localhost:8080/",
          "height": 68
        },
        "outputId": "98f870ce-733b-4f30-d828-800842624afe"
      },
      "source": [
        " Width= int(input (\"Enter the Width:\")) \n",
        "Height=int(input (\"Enter the Height:\")) \n",
        "area=Width * Height\n",
        "print(\"The area is\", area, \"square units\")"
      ],
      "execution_count": null,
      "outputs": [
        {
          "output_type": "stream",
          "text": [
            "Enter the Width:10\n",
            "Enter the Height:2\n",
            "The area is 20 square units\n"
          ],
          "name": "stdout"
        }
      ]
    },
    {
      "cell_type": "markdown",
      "metadata": {
        "id": "vG4RpmS4Cy-e",
        "colab_type": "text"
      },
      "source": [
        "Question 5"
      ]
    },
    {
      "cell_type": "code",
      "metadata": {
        "id": "ys7hLctQC2uF",
        "colab_type": "code",
        "colab": {
          "base_uri": "https://localhost:8080/",
          "height": 68
        },
        "outputId": "97eb9be2-3aaa-4ba6-d139-1f7dbe220efb"
      },
      "source": [
        "#area of a triangle\n",
        "Base=int(input(\"Enter the width:\")) \n",
        "Height=int(input(\"Enter the height:\")) \n",
        "area=.5*Base*Height\n",
        "print(\"The area is\", area, \"sqaure units\")"
      ],
      "execution_count": null,
      "outputs": [
        {
          "output_type": "stream",
          "text": [
            "Enter the width:10\n",
            "Enter the height:2\n",
            "The area is 10.0 sqaure units\n"
          ],
          "name": "stdout"
        }
      ]
    },
    {
      "cell_type": "markdown",
      "metadata": {
        "id": "GHgJR0J2GS8G",
        "colab_type": "text"
      },
      "source": [
        "Question 6"
      ]
    },
    {
      "cell_type": "code",
      "metadata": {
        "id": "nHiMyZg1GWkZ",
        "colab_type": "code",
        "colab": {
          "base_uri": "https://localhost:8080/",
          "height": 51
        },
        "outputId": "d6190de3-1722-4a33-f84b-82b9fed1a061"
      },
      "source": [
        "#area of a circle\n",
        "radius=int(input (\"Enter the radius:\")) \n",
        "area=3.14*radius**2\n",
        "print(\"The radius is\", area, \"sqaure units\")"
      ],
      "execution_count": null,
      "outputs": [
        {
          "output_type": "stream",
          "text": [
            "Enter the radius:20\n",
            "The radius is 1256.0 sqaure units\n"
          ],
          "name": "stdout"
        }
      ]
    },
    {
      "cell_type": "markdown",
      "metadata": {
        "id": "lH6_v0WpIAr9",
        "colab_type": "text"
      },
      "source": [
        "Question 7"
      ]
    },
    {
      "cell_type": "code",
      "metadata": {
        "id": "U3DQk-2cIDnw",
        "colab_type": "code",
        "colab": {
          "base_uri": "https://localhost:8080/",
          "height": 88
        },
        "outputId": "c340535b-13e3-4159-ac76-7d677eac876e"
      },
      "source": [
        "Name=input(\"Enter your name\") \n",
        "Age=input (\"Enter your age\") \n",
        "print(\"My name is \"+Name+\" and my age is \"+Age)"
      ],
      "execution_count": null,
      "outputs": [
        {
          "output_type": "stream",
          "text": [
            "Enter your name Remyasree P\n",
            "Enter your age 19\n",
            "My name is  Remyasree P and my age is  19\n"
          ],
          "name": "stdout"
        }
      ]
    },
    {
      "cell_type": "markdown",
      "metadata": {
        "id": "79P-PpVTKN-e",
        "colab_type": "text"
      },
      "source": [
        "Question 8"
      ]
    },
    {
      "cell_type": "code",
      "metadata": {
        "id": "FXte4zHtKQG4",
        "colab_type": "code",
        "colab": {
          "base_uri": "https://localhost:8080/",
          "height": 51
        },
        "outputId": "8eee0530-3655-49a1-f4d3-46f5418f27cd"
      },
      "source": [
        "a=int(input(\"Enter a number:\")) \n",
        "a=a+1\n",
        "print(a)"
      ],
      "execution_count": null,
      "outputs": [
        {
          "output_type": "stream",
          "text": [
            "Enter a number:4\n",
            "5\n"
          ],
          "name": "stdout"
        }
      ]
    },
    {
      "cell_type": "markdown",
      "metadata": {
        "id": "KsBEiIjlLDUo",
        "colab_type": "text"
      },
      "source": [
        " Question 9"
      ]
    },
    {
      "cell_type": "code",
      "metadata": {
        "id": "0hVeOoMAO1Nx",
        "colab_type": "code",
        "colab": {
          "base_uri": "https://localhost:8080/",
          "height": 51
        },
        "outputId": "917ffe93-dc02-48ed-92c7-7d9338f6c440"
      },
      "source": [
        "Name=input (\" Enter your first name:\")\n",
        "print(Name)"
      ],
      "execution_count": null,
      "outputs": [
        {
          "output_type": "stream",
          "text": [
            " Enter your first name:Remyasree\n",
            "Remyasree\n"
          ],
          "name": "stdout"
        }
      ]
    },
    {
      "cell_type": "code",
      "metadata": {
        "id": "hTl1Br2zPXk3",
        "colab_type": "code",
        "colab": {
          "base_uri": "https://localhost:8080/",
          "height": 52
        },
        "outputId": "2b8481db-a608-47a6-affa-f13e84acd8b5"
      },
      "source": [
        "input (\"Enter your first name:\")"
      ],
      "execution_count": null,
      "outputs": [
        {
          "output_type": "stream",
          "text": [
            "Enter your first name:Remyasree\n"
          ],
          "name": "stdout"
        },
        {
          "output_type": "execute_result",
          "data": {
            "application/vnd.google.colaboratory.intrinsic+json": {
              "type": "string"
            },
            "text/plain": [
              "'Remyasree'"
            ]
          },
          "metadata": {
            "tags": []
          },
          "execution_count": 70
        }
      ]
    }
  ]
}